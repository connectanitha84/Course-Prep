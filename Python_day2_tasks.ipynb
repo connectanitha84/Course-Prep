{
  "nbformat": 4,
  "nbformat_minor": 0,
  "metadata": {
    "colab": {
      "provenance": [],
      "authorship_tag": "ABX9TyMjaPX8Llme+ptIgDYVaWQU",
      "include_colab_link": true
    },
    "kernelspec": {
      "name": "python3",
      "display_name": "Python 3"
    },
    "language_info": {
      "name": "python"
    }
  },
  "cells": [
    {
      "cell_type": "markdown",
      "metadata": {
        "id": "view-in-github",
        "colab_type": "text"
      },
      "source": [
        "<a href=\"https://colab.research.google.com/github/connectanitha84/Course-Prep/blob/main/Python_day2_tasks.ipynb\" target=\"_parent\"><img src=\"https://colab.research.google.com/assets/colab-badge.svg\" alt=\"Open In Colab\"/></a>"
      ]
    },
    {
      "cell_type": "markdown",
      "source": [
        "Problem Statement\n",
        "You’re in charge of organizing a conference event for MBA students interested in data analytics. You need to manage a list of attendees efficiently, handling tasks such as adding new names, removing canceled participants, and sorting the list for smooth check-in.\n",
        "\n",
        "1) Add Attendees: Start with an empty list called attendees and add the List item following attendees one by one:\n",
        "\n",
        "2) Cancel Attendance: Remove him from the list.\n",
        "\n",
        "3) Check for VIP: Check if \"VIP Member\" is in the attendees list. If not, add them to the beginning of the list.\n",
        "\n",
        "4) Alphabetical Order: Sort the list of attendees alphabetically for easy lookup.\n",
        "\n",
        "5) Reverse Order for Check-Out: After the event, reverse the order of attendees to check them out in the reverse order they checked in.\n",
        "\n",
        "6) Count Attendees: Print the number of people attending the event.\n",
        "\n",
        "networking_attendees: list of participants\n",
        "\n",
        "Find & Remove No-Shows: Unfortunately, last  attendee couldn't attend the networking session. Remove her from networking_attendees.\n",
        "\n",
        "Check Common Attendees: Find attendees who are in both workshop_attendees and networking_attendees and store them in a new list called common_attendees.\n",
        "\n",
        "Combine Lists for a Grand Event: Combine both workshop_attendees and networking_attendees into a new list called grand_event_attendees.\n",
        "\n",
        "Unique Attendees: Some names may be duplicated. Remove any duplicates in grand_event_attendees using list methods, so each name appears only once.\n",
        "\n",
        "Count & Report:\n",
        "\n",
        "Find the total number of unique attendees.\n",
        "\n",
        "Print out the list of unique attendees in alphabetical order.\n",
        "\n",
        "Position Check: Determine the position of \"Alice Green\" in the final unique attendee list.\n",
        "\n",
        "Clear Networking List: Clear all attendees from networking_attendees at the end to show that the session has finished."
      ],
      "metadata": {
        "id": "bezLluvAGrKu"
      }
    },
    {
      "cell_type": "code",
      "source": [
        "# Step 1: Create an empty list and add attendees\n",
        "attendees = []\n",
        "attendees.append(\"John Doe\")\n",
        "attendees.append(\"Jane Smith\")\n",
        "attendees.append(\"Mark Brown\")\n",
        "attendees.append(\"Lucy Gray\")\n",
        "\n",
        "# Step 2: Remove the attendee who canceled\n",
        "attendees.remove(\"Mark Brown\")\n",
        "\n",
        "# Step 3: Check and add \"VIP Member\" if not present\n",
        "if \"VIP Member\" not in attendees:\n",
        "    attendees.insert(0, \"VIP Member\")\n",
        "\n",
        "# Step 4: Sort the attendees alphabetically\n",
        "attendees.sort()\n",
        "\n",
        "# Step 5: Reverse the order for check-out\n",
        "attendees.reverse()\n",
        "\n",
        "# Step 6: Print the count of attendees\n",
        "print(\"Total attendees:\", len(attendees))\n",
        "\n",
        "# Final list of attendees\n",
        "print(\"Attendees:\", attendees)\n"
      ],
      "metadata": {
        "colab": {
          "base_uri": "https://localhost:8080/"
        },
        "id": "fWv4TUQ2GPSO",
        "outputId": "28068cf1-d949-4094-a26e-0a8454b7aee2"
      },
      "execution_count": null,
      "outputs": [
        {
          "output_type": "stream",
          "name": "stdout",
          "text": [
            "Total attendees: 4\n",
            "Attendees: ['VIP Member', 'Lucy Gray', 'John Doe', 'Jane Smith']\n"
          ]
        }
      ]
    },
    {
      "cell_type": "code",
      "source": [
        "# Step 1: Initialize lists\n",
        "workshop_attendees = []\n",
        "networking_attendees = [\"John Doe\", \"Emily Clark\", \"Michael Brown\", \"Sarah White\"]\n",
        "\n",
        "# Step 2: Add attendees to workshop_attendees\n",
        "workshop_attendees.extend([\"Alice Green\", \"Charlie Black\", \"Dana Blue\", \"John Doe\"])\n",
        "\n",
        "# Step 3: Remove no-show from networking_attendees\n",
        "if \"Sarah White\" in networking_attendees:\n",
        "    networking_attendees.remove(\"Sarah White\")\n",
        "\n",
        "# Step 4: Find common attendees between both lists\n",
        "common_attendees = [attendee for attendee in workshop_attendees if attendee in networking_attendees]\n",
        "8\n",
        "# Step 5: Combine lists for the grand event\n",
        "grand_event_attendees = workshop_attendees + networking_attendees\n",
        "\n",
        "# Step 6: Remove duplicates to get unique attendees\n",
        "unique_attendees = list(set(grand_event_attendees))\n",
        "\n",
        "# Step 7: Count unique attendees and sort alphabetically\n",
        "unique_attendees.sort()\n",
        "print(\"Total unique attendees:\", len(unique_attendees))\n",
        "print(\"Unique attendees in alphabetical order:\", unique_attendees)\n",
        "\n",
        "# Step 8: Find the position of \"Alice Green\" in unique_attendees\n",
        "position_alice = unique_attendees.index(\"Alice Green\") + 1  # Adding 1 for human-readable position\n",
        "print(\"Position of Alice Green:\", position_alice)\n",
        "\n",
        "# Step 3: Replace incorrect name in networking_attendees\n",
        "if \"Michael Brown\" in networking_attendees:\n",
        "    index = networking_attendees.index(\"Michael Brown\")\n",
        "    networking_attendees[index] = \"Michael Green\"\n",
        "# Step 9: Clear networking_attendees after the event\n",
        "networking_attendees.clear()\n",
        "\n",
        "# Final report\n",
        "print(\"Workshop Attendees:\", workshop_attendees)\n",
        "print(\"Networking Attendees (cleared):\", networking_attendees)\n",
        "print(\"Common Attendees in both sessions:\", common_attendees)\n",
        "print(\"Grand Event Attendees (no duplicates):\", unique_attendees)\n"
      ],
      "metadata": {
        "colab": {
          "base_uri": "https://localhost:8080/"
        },
        "id": "QEsN-HxmISrk",
        "outputId": "5b53bf07-05e8-4018-c4bc-be9b17bb052d"
      },
      "execution_count": 4,
      "outputs": [
        {
          "output_type": "stream",
          "name": "stdout",
          "text": [
            "Total unique attendees: 6\n",
            "Unique attendees in alphabetical order: ['Alice Green', 'Charlie Black', 'Dana Blue', 'Emily Clark', 'John Doe', 'Michael Brown']\n",
            "Position of Alice Green: 1\n",
            "Workshop Attendees: ['Alice Green', 'Charlie Black', 'Dana Blue', 'John Doe']\n",
            "Networking Attendees (cleared): []\n",
            "Common Attendees in both sessions: ['John Doe']\n",
            "Grand Event Attendees (no duplicates): ['Alice Green', 'Charlie Black', 'Dana Blue', 'Emily Clark', 'John Doe', 'Michael Brown']\n"
          ]
        }
      ]
    },
    {
      "cell_type": "markdown",
      "source": [
        "Question: Complete the code below to apply a 15% discount if the total purchase amount is above $200."
      ],
      "metadata": {
        "id": "PcbKgM11gOpY"
      }
    },
    {
      "cell_type": "code",
      "execution_count": null,
      "metadata": {
        "id": "5SNCVwF8gGPw"
      },
      "outputs": [],
      "source": [
        "total_purchase = 250  # Example amount\n",
        "if ________ > 200:\n",
        "    discount = total_purchase * ________\n",
        "    total_purchase = total_purchase - ________\n",
        "print(\"Final Amount:\", total_purchase)\n"
      ]
    },
    {
      "cell_type": "code",
      "source": [
        "#Example: 1- Write the program to remove the duplicate element of the list.\n",
        "\n",
        "list1 = [1,2,2,3,55,98,65,65,13,29]\n",
        "# Declare an empty list that will store unique values\n",
        "list2 = []\n",
        "for i in list1:\n",
        "    if i not in list2:\n",
        "        list2.append(i)\n",
        "print(list2)"
      ],
      "metadata": {
        "colab": {
          "base_uri": "https://localhost:8080/"
        },
        "id": "wIw2UE-pu3yy",
        "outputId": "f38d4f04-cae2-42e7-bb05-cda30fea21fb"
      },
      "execution_count": 5,
      "outputs": [
        {
          "output_type": "stream",
          "name": "stdout",
          "text": [
            "[1, 2, 3, 55, 98, 65, 13, 29]\n"
          ]
        }
      ]
    },
    {
      "cell_type": "code",
      "source": [
        "sum(list1), max(list1), min(list1)"
      ],
      "metadata": {
        "colab": {
          "base_uri": "https://localhost:8080/"
        },
        "id": "HmByZiMpvGo5",
        "outputId": "a772ce61-b276-467e-ba86-6f462ac321d1"
      },
      "execution_count": 10,
      "outputs": [
        {
          "output_type": "execute_result",
          "data": {
            "text/plain": [
              "(333, 98, 1)"
            ]
          },
          "metadata": {},
          "execution_count": 10
        }
      ]
    },
    {
      "cell_type": "code",
      "source": [
        "#Count() & len()\n",
        "# vowels list\n",
        "vowels = ['a', 'e', 'i', 'o', 'i', ['d','f','g']]\n",
        "\n",
        "# count element 'i'\n",
        "count = vowels.count('i')\n",
        "\n",
        "# print count\n",
        "print('The count of i is:', count)\n",
        "\n",
        "length = len(vowels)\n",
        "print(\"number of elements is :\",length)"
      ],
      "metadata": {
        "id": "1iKSDfz7u9pX"
      },
      "execution_count": null,
      "outputs": []
    },
    {
      "cell_type": "markdown",
      "source": [
        "Question: Complete the code to add a \"Loyal Customer\" tag to customers who have made over 3 purchases."
      ],
      "metadata": {
        "id": "ftuy_uDcgTIJ"
      }
    },
    {
      "cell_type": "code",
      "source": [
        "purchases = 4\n",
        "if purchases ________ 3:\n",
        "    status = \"Loyal Customer\"\n",
        "else:\n",
        "    status = \"Regular Customer\"\n",
        "print(\"Customer Status:\", status)\n"
      ],
      "metadata": {
        "id": "Dedq1HSZgWs1"
      },
      "execution_count": null,
      "outputs": []
    },
    {
      "cell_type": "markdown",
      "source": [
        "Question: Complete the code to compare sales from two regions and print \"Region A had higher sales\" if sales in Region A are greater."
      ],
      "metadata": {
        "id": "v8BmrjRagYvW"
      }
    },
    {
      "cell_type": "code",
      "source": [
        "region_a_sales = 500\n",
        "region_b_sales = 400\n",
        "if region_a_sales ________ region_b_sales:\n",
        "    print(\"Region A had higher sales\")\n",
        "else:\n",
        "    print(\"Region B had higher sales\")\n"
      ],
      "metadata": {
        "id": "lQX1HYTmgbxi"
      },
      "execution_count": null,
      "outputs": []
    },
    {
      "cell_type": "markdown",
      "source": [
        "Question: Complete the loop to count how many days a daily sales list exceeded the target of $150."
      ],
      "metadata": {
        "id": "nwMxDaYogeC2"
      }
    },
    {
      "cell_type": "code",
      "source": [
        "daily_sales = [120, 180, 130, 160, 200, 140, 170]\n",
        "target = 150\n",
        "days_above_target = 0\n",
        "for sale in ________:\n",
        "    if sale ________ target:\n",
        "        days_above_target += 1\n",
        "print(\"Days above target:\", days_above_target)\n"
      ],
      "metadata": {
        "id": "Kdoi13AdghxG"
      },
      "execution_count": null,
      "outputs": []
    },
    {
      "cell_type": "markdown",
      "source": [
        "Question: Complete the code to calculate the profit for each product and print if it's \"Profitable\" (profit > 0) or \"Not Profitable\" (profit <= 0)."
      ],
      "metadata": {
        "id": "d3lrj133gkQP"
      }
    },
    {
      "cell_type": "code",
      "source": [
        "products = {\"apple\": (50, 40), \"banana\": (30, 35), \"mango\": (60, 55)}\n",
        "for product, (selling_price, cost_price) in ________.items():\n",
        "    profit = ________ - ________\n",
        "    if profit > 0:\n",
        "        print(f\"{product}: Profitable\")\n",
        "    else:\n",
        "        print(f\"{product}: Not Profitable\")\n"
      ],
      "metadata": {
        "id": "GpRYsSYBgnaW"
      },
      "execution_count": null,
      "outputs": []
    },
    {
      "cell_type": "markdown",
      "source": [
        "Question: Complete the loop to calculate the total sales for the quarter by summing the list quarterly_sales."
      ],
      "metadata": {
        "id": "Z0ZsaQDyhqmK"
      }
    },
    {
      "cell_type": "code",
      "source": [
        "quarterly_sales = [300, 400, 500, 600]\n",
        "total_sales = 0\n",
        "for sale in ________:\n",
        "    total_sales += ________\n",
        "print(\"Quarterly Sales Total:\", total_sales)\n"
      ],
      "metadata": {
        "id": "yU7zhnb4htte"
      },
      "execution_count": null,
      "outputs": []
    },
    {
      "cell_type": "markdown",
      "source": [
        "Question: Complete the code to check if a product is available in stock, and print \"Available\" or \"Out of Stock\" accordingly."
      ],
      "metadata": {
        "id": "asfcbiL-hv_C"
      }
    },
    {
      "cell_type": "code",
      "source": [
        "stock = [\"apple\", \"banana\", \"mango\"]\n",
        "product = \"orange\"\n",
        "if ________ in ________:\n",
        "    print(\"Available\")\n",
        "else:\n",
        "    print(\"Out of Stock\")\n"
      ],
      "metadata": {
        "id": "z-cz4nNYhyj9"
      },
      "execution_count": null,
      "outputs": []
    },
    {
      "cell_type": "markdown",
      "source": [
        "Question: Complete the loop to categorize customers based on their ages: \"Adult\" if age >= 18, otherwise \"Minor.\""
      ],
      "metadata": {
        "id": "RyHv6zGzh0lu"
      }
    },
    {
      "cell_type": "code",
      "source": [
        "customer_ages = [16, 20, 17, 30, 15]\n",
        "for age in ________:\n",
        "    if age ________ 18:\n",
        "        category = \"Adult\"\n",
        "    else:\n",
        "        category = \"Minor\"\n",
        "    print(f\"Age {age}: {category}\")\n"
      ],
      "metadata": {
        "id": "tECLerjth3ui"
      },
      "execution_count": null,
      "outputs": []
    },
    {
      "cell_type": "markdown",
      "source": [
        "Question: Fill in the blanks to calculate the average order amount."
      ],
      "metadata": {
        "id": "Wv3GK3A-h5Vq"
      }
    },
    {
      "cell_type": "code",
      "source": [
        "orders = [120, 150, 180, 200]\n",
        "total = sum(orders)\n",
        "average_order = ________ / ________\n",
        "print(\"Average Order Amount:\", average_order)\n"
      ],
      "metadata": {
        "id": "xVAobtnnh78j"
      },
      "execution_count": null,
      "outputs": []
    },
    {
      "cell_type": "markdown",
      "source": [
        "Question: Fill in the blanks to list the days with revenue exceeding $500."
      ],
      "metadata": {
        "id": "DCzK69M_h9zf"
      }
    },
    {
      "cell_type": "code",
      "source": [
        "daily_revenue = [400, 600, 550, 200, 800]\n",
        "high_revenue_days = []\n",
        "for revenue in ________:\n",
        "    if revenue > ________:\n",
        "        high_revenue_days.append(revenue)\n",
        "print(\"High Revenue Days:\", high_revenue_days)\n"
      ],
      "metadata": {
        "id": "ZWsWEcdQiCFJ"
      },
      "execution_count": null,
      "outputs": []
    },
    {
      "cell_type": "markdown",
      "source": [
        "Question: Complete the loop to check if a seller has reached $1000 in sales and print \"Top Seller\" for any seller who meets the requirement."
      ],
      "metadata": {
        "id": "3Fu4Fd9tiDYF"
      }
    },
    {
      "cell_type": "code",
      "source": [
        "sellers = {\"Alice\": 900, \"Bob\": 1200, \"Charlie\": 850}\n",
        "for name, sales in sellers.items():\n",
        "    if ________ >= 1000:\n",
        "        print(f\"{name}: Top Seller\")\n"
      ],
      "metadata": {
        "id": "BKJyLx4DiGeC"
      },
      "execution_count": null,
      "outputs": []
    },
    {
      "cell_type": "markdown",
      "source": [
        "Question: Fill in the code to calculate the percentage of days sales met or exceeded the daily target."
      ],
      "metadata": {
        "id": "Co_sYO7giIYZ"
      }
    },
    {
      "cell_type": "code",
      "source": [
        "daily_sales = [180, 150, 130, 170, 200]\n",
        "target = 150\n",
        "count = 0\n",
        "for sale in ________:\n",
        "    if sale ________ target:\n",
        "        count += 1\n",
        "achievement_percentage = (count / len(daily_sales)) * 100\n",
        "print(\"Target Achievement Percentage:\", achievement_percentage)\n"
      ],
      "metadata": {
        "id": "uSF0jdUkiKiD"
      },
      "execution_count": null,
      "outputs": []
    },
    {
      "cell_type": "markdown",
      "source": [
        "Question: Fill in the code to list products that cost less than $20."
      ],
      "metadata": {
        "id": "mHYN64Hii-_5"
      }
    },
    {
      "cell_type": "code",
      "source": [
        "product_prices = {\"apple\": 10, \"banana\": 5, \"mango\": 15, \"orange\": 25}\n",
        "affordable_products = []\n",
        "for product, price in ________.items():\n",
        "    if price < ________:\n",
        "        affordable_products.append(product)\n",
        "print(\"Affordable Products:\", affordable_products)\n"
      ],
      "metadata": {
        "id": "4W0XsOK4jCcu"
      },
      "execution_count": null,
      "outputs": []
    },
    {
      "cell_type": "markdown",
      "source": [
        "Question: Complete the code to find and print the highest profit in a list of daily profits."
      ],
      "metadata": {
        "id": "VvzevhADjEST"
      }
    },
    {
      "cell_type": "code",
      "source": [
        "daily_profits = [150, 300, 250, 400, 180]\n",
        "max_profit = ________(daily_profits)\n",
        "print(\"Most Profitable Day:\", max_profit)\n"
      ],
      "metadata": {
        "id": "1E2if-GpjHQc"
      },
      "execution_count": null,
      "outputs": []
    },
    {
      "cell_type": "markdown",
      "source": [
        "Question: Fill in the blanks to check if a customer has spent more than $500 in a given list of transactions."
      ],
      "metadata": {
        "id": "210Yjze1jJ7h"
      }
    },
    {
      "cell_type": "code",
      "source": [
        "transactions = [120, 200, 300, 50, 90]\n",
        "total_spent = sum(________)\n",
        "if total_spent ________ 500:\n",
        "    print(\"High Value Customer\")\n",
        "else:\n",
        "    print(\"Regular Customer\")\n"
      ],
      "metadata": {
        "id": "FMwq7W6Fhvsl"
      },
      "execution_count": null,
      "outputs": []
    }
  ]
}