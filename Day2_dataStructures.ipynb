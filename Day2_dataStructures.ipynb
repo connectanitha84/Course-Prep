{
  "nbformat": 4,
  "nbformat_minor": 0,
  "metadata": {
    "colab": {
      "provenance": [],
      "authorship_tag": "ABX9TyN/pYile0CwIhgFfAg8MG9z",
      "include_colab_link": true
    },
    "kernelspec": {
      "name": "python3",
      "display_name": "Python 3"
    },
    "language_info": {
      "name": "python"
    }
  },
  "cells": [
    {
      "cell_type": "markdown",
      "metadata": {
        "id": "view-in-github",
        "colab_type": "text"
      },
      "source": [
        "<a href=\"https://colab.research.google.com/github/connectanitha84/Course-Prep/blob/main/Day2_dataStructures.ipynb\" target=\"_parent\"><img src=\"https://colab.research.google.com/assets/colab-badge.svg\" alt=\"Open In Colab\"/></a>"
      ]
    },
    {
      "cell_type": "markdown",
      "source": [
        "# LISTS"
      ],
      "metadata": {
        "id": "Z4yb8Hhs-Kma"
      }
    },
    {
      "cell_type": "code",
      "source": [
        "newList = [\"apple\",\"banana\",\"cherry\",\"orange\",\"kiwi\",\"mango\",\"strawberry\"]"
      ],
      "metadata": {
        "id": "DYNviIsDG2Hq"
      },
      "execution_count": 5,
      "outputs": []
    },
    {
      "cell_type": "code",
      "source": [
        "type(newList)"
      ],
      "metadata": {
        "colab": {
          "base_uri": "https://localhost:8080/"
        },
        "id": "suNBNk7z-lQ_",
        "outputId": "20e6968e-15e4-40e6-e945-bfcd95a37efa"
      },
      "execution_count": 6,
      "outputs": [
        {
          "output_type": "execute_result",
          "data": {
            "text/plain": [
              "list"
            ]
          },
          "metadata": {},
          "execution_count": 6
        }
      ]
    },
    {
      "cell_type": "code",
      "source": [
        "newList[0]"
      ],
      "metadata": {
        "colab": {
          "base_uri": "https://localhost:8080/",
          "height": 35
        },
        "id": "R4DtfOAk-o5d",
        "outputId": "05f9dbd4-ba85-467b-aedb-610834f0deee"
      },
      "execution_count": 7,
      "outputs": [
        {
          "output_type": "execute_result",
          "data": {
            "text/plain": [
              "'apple'"
            ],
            "application/vnd.google.colaboratory.intrinsic+json": {
              "type": "string"
            }
          },
          "metadata": {},
          "execution_count": 7
        }
      ]
    },
    {
      "cell_type": "code",
      "source": [
        "newList[-1]"
      ],
      "metadata": {
        "colab": {
          "base_uri": "https://localhost:8080/",
          "height": 35
        },
        "id": "bMVQ0Mjq_GS-",
        "outputId": "38ed7202-9080-4914-9001-b6290140ac6b"
      },
      "execution_count": 8,
      "outputs": [
        {
          "output_type": "execute_result",
          "data": {
            "text/plain": [
              "'strawberry'"
            ],
            "application/vnd.google.colaboratory.intrinsic+json": {
              "type": "string"
            }
          },
          "metadata": {},
          "execution_count": 8
        }
      ]
    },
    {
      "cell_type": "code",
      "source": [
        "# newList[start:stop:step]\n",
        "newList[2:5]"
      ],
      "metadata": {
        "colab": {
          "base_uri": "https://localhost:8080/"
        },
        "id": "FB0rbyII_b2w",
        "outputId": "5422c7a1-7b51-480e-a879-c558f4316599"
      },
      "execution_count": 11,
      "outputs": [
        {
          "output_type": "execute_result",
          "data": {
            "text/plain": [
              "['cherry', 'orange', 'kiwi']"
            ]
          },
          "metadata": {},
          "execution_count": 11
        }
      ]
    },
    {
      "cell_type": "code",
      "source": [
        "newList[5:]"
      ],
      "metadata": {
        "colab": {
          "base_uri": "https://localhost:8080/"
        },
        "id": "NWNUe8D1AmJ1",
        "outputId": "d7e02818-362b-480b-f5a5-7a4b47e30317"
      },
      "execution_count": 12,
      "outputs": [
        {
          "output_type": "execute_result",
          "data": {
            "text/plain": [
              "['mango', 'strawberry']"
            ]
          },
          "metadata": {},
          "execution_count": 12
        }
      ]
    },
    {
      "cell_type": "code",
      "source": [
        "newList.append(\"Tomato\")"
      ],
      "metadata": {
        "id": "xs9L3QqlA-VH"
      },
      "execution_count": 13,
      "outputs": []
    },
    {
      "cell_type": "code",
      "source": [
        "newList"
      ],
      "metadata": {
        "colab": {
          "base_uri": "https://localhost:8080/"
        },
        "id": "pJiF6f-gBpeR",
        "outputId": "dde03f79-d875-42a9-a710-c70d48ecec9a"
      },
      "execution_count": 14,
      "outputs": [
        {
          "output_type": "execute_result",
          "data": {
            "text/plain": [
              "['apple',\n",
              " 'banana',\n",
              " 'cherry',\n",
              " 'orange',\n",
              " 'kiwi',\n",
              " 'mango',\n",
              " 'strawberry',\n",
              " 'Tomato']"
            ]
          },
          "metadata": {},
          "execution_count": 14
        }
      ]
    },
    {
      "cell_type": "markdown",
      "source": [
        "Problem Statement You’re in charge of organizing a conference event for MBA students interested in data analytics. You need to manage a list of attendees efficiently, handling tasks such as adding new names, removing canceled participants, and sorting the list for smooth check-in."
      ],
      "metadata": {
        "id": "Bb2cicivJQKe"
      }
    },
    {
      "cell_type": "markdown",
      "source": [
        "\n",
        "\n",
        "1.  Add Attendees: Start with an empty list called attendees and add the List items one by one\n",
        "\n"
      ],
      "metadata": {
        "id": "4C3bcO0sJZiq"
      }
    },
    {
      "cell_type": "code",
      "source": [
        "attendees = []"
      ],
      "metadata": {
        "id": "kDjwPauEBqm4"
      },
      "execution_count": 38,
      "outputs": []
    },
    {
      "cell_type": "code",
      "source": [
        "attendees.append(\"John\")\n",
        "attendees.append(\"Alice\")\n",
        "attendees.append(\"Bob\")\n",
        "attendees.append(\"Eve\")\n",
        "attendees.append(\"David\")\n",
        "attendees"
      ],
      "metadata": {
        "colab": {
          "base_uri": "https://localhost:8080/"
        },
        "id": "riayvKS9MkzS",
        "outputId": "fa27b398-3360-47cd-930f-c9b99b77cc65"
      },
      "execution_count": 39,
      "outputs": [
        {
          "output_type": "execute_result",
          "data": {
            "text/plain": [
              "['John', 'Alice', 'Bob', 'Eve', 'David']"
            ]
          },
          "metadata": {},
          "execution_count": 39
        }
      ]
    },
    {
      "cell_type": "markdown",
      "source": [
        "2. add \"VIP Member\" to the front of the list"
      ],
      "metadata": {
        "id": "XuXVwVpdNQUS"
      }
    },
    {
      "cell_type": "code",
      "source": [
        "attendees.insert(0,\"Dr.Manohar\")"
      ],
      "metadata": {
        "id": "Rk7gLDqmM0rg"
      },
      "execution_count": 40,
      "outputs": []
    },
    {
      "cell_type": "code",
      "source": [
        "attendees"
      ],
      "metadata": {
        "colab": {
          "base_uri": "https://localhost:8080/"
        },
        "id": "gyrRmiVLUVvY",
        "outputId": "3b8aa1cb-e202-48a5-8738-0a31c61a33b4"
      },
      "execution_count": 18,
      "outputs": [
        {
          "output_type": "execute_result",
          "data": {
            "text/plain": [
              "['Dr.Manohar', 'John', 'Alice', 'Bob', 'Eve', 'David']"
            ]
          },
          "metadata": {},
          "execution_count": 18
        }
      ]
    },
    {
      "cell_type": "markdown",
      "source": [
        "3. Cancel attendance - Remove a participant"
      ],
      "metadata": {
        "id": "2syWsSZHNzN1"
      }
    },
    {
      "cell_type": "code",
      "source": [
        "attendees.remove(\"Eve\")"
      ],
      "metadata": {
        "id": "lxdeOWfpN9Fd"
      },
      "execution_count": 41,
      "outputs": []
    },
    {
      "cell_type": "code",
      "source": [
        "attendees"
      ],
      "metadata": {
        "colab": {
          "base_uri": "https://localhost:8080/"
        },
        "id": "4WyFWQZ8Uvws",
        "outputId": "fbd7f2ee-e777-4c49-bac0-c15e4d55e776"
      },
      "execution_count": 20,
      "outputs": [
        {
          "output_type": "execute_result",
          "data": {
            "text/plain": [
              "['Dr.Manohar', 'John', 'Alice', 'Bob', 'David']"
            ]
          },
          "metadata": {},
          "execution_count": 20
        }
      ]
    },
    {
      "cell_type": "markdown",
      "source": [
        "4. Print the count of attendees"
      ],
      "metadata": {
        "id": "t8iogRYyNbNl"
      }
    },
    {
      "cell_type": "code",
      "source": [
        "print(len(attendees))"
      ],
      "metadata": {
        "colab": {
          "base_uri": "https://localhost:8080/"
        },
        "id": "BY28H6gpNjKt",
        "outputId": "4a1b263c-30ab-44b2-f7d7-f4e66afa43e5"
      },
      "execution_count": 21,
      "outputs": [
        {
          "output_type": "stream",
          "name": "stdout",
          "text": [
            "5\n"
          ]
        }
      ]
    },
    {
      "cell_type": "markdown",
      "source": [
        "5. Sort the list of the attendees for easy lookup"
      ],
      "metadata": {
        "id": "tog0fLjnNkKH"
      }
    },
    {
      "cell_type": "code",
      "source": [
        "attendees.sort()"
      ],
      "metadata": {
        "id": "sZvhotjJNuQP"
      },
      "execution_count": 22,
      "outputs": []
    },
    {
      "cell_type": "code",
      "source": [
        "attendees"
      ],
      "metadata": {
        "colab": {
          "base_uri": "https://localhost:8080/"
        },
        "id": "nUHv6eaFVGkZ",
        "outputId": "49e24ed1-a32b-4daf-e379-e8ef5c553c66"
      },
      "execution_count": 23,
      "outputs": [
        {
          "output_type": "execute_result",
          "data": {
            "text/plain": [
              "['Alice', 'Bob', 'David', 'Dr.Manohar', 'John']"
            ]
          },
          "metadata": {},
          "execution_count": 23
        }
      ]
    },
    {
      "cell_type": "code",
      "source": [
        "attendees.sort(reverse=True)"
      ],
      "metadata": {
        "id": "BcrFw6wkVuGv"
      },
      "execution_count": 27,
      "outputs": []
    },
    {
      "cell_type": "code",
      "source": [
        "attendees"
      ],
      "metadata": {
        "colab": {
          "base_uri": "https://localhost:8080/"
        },
        "id": "RJMGm2MhVy7B",
        "outputId": "af0e7384-f2f9-44b6-fdc6-6f665a1fca6a"
      },
      "execution_count": 28,
      "outputs": [
        {
          "output_type": "execute_result",
          "data": {
            "text/plain": [
              "['John', 'Dr.Manohar', 'David', 'Bob', 'Alice']"
            ]
          },
          "metadata": {},
          "execution_count": 28
        }
      ]
    },
    {
      "cell_type": "code",
      "source": [
        "attendees.reverse()"
      ],
      "metadata": {
        "id": "aAB-6AzEVZys"
      },
      "execution_count": 24,
      "outputs": []
    },
    {
      "cell_type": "code",
      "source": [
        "attendees"
      ],
      "metadata": {
        "colab": {
          "base_uri": "https://localhost:8080/"
        },
        "id": "sc2eh5tkVdcn",
        "outputId": "be7e4f31-7a38-42ce-ba75-bc36530e02fb"
      },
      "execution_count": 26,
      "outputs": [
        {
          "output_type": "execute_result",
          "data": {
            "text/plain": [
              "['John', 'Dr.Manohar', 'David', 'Bob', 'Alice']"
            ]
          },
          "metadata": {},
          "execution_count": 26
        }
      ]
    },
    {
      "cell_type": "markdown",
      "source": [
        "6. Replace a misspelled name with the correct name"
      ],
      "metadata": {
        "id": "7dnHwackQwSf"
      }
    },
    {
      "cell_type": "code",
      "source": [
        "ind = attendees.index(\"John\")\n",
        "attendees[ind] = \"John Doe\"\n",
        "attendees"
      ],
      "metadata": {
        "colab": {
          "base_uri": "https://localhost:8080/"
        },
        "id": "Xt_-5XyTRghm",
        "outputId": "c11f258c-2a5c-4327-8cf8-a2e0411db14e"
      },
      "execution_count": 42,
      "outputs": [
        {
          "output_type": "execute_result",
          "data": {
            "text/plain": [
              "['Dr.Manohar', 'John Doe', 'Alice', 'Bob', 'David']"
            ]
          },
          "metadata": {},
          "execution_count": 42
        }
      ]
    },
    {
      "cell_type": "markdown",
      "source": [
        "7. create a list of members for another conference in the same location"
      ],
      "metadata": {
        "id": "ZHTaRqjlRnhC"
      }
    },
    {
      "cell_type": "code",
      "source": [
        "techtalk= [\"Ram\" , \"Sita\",\"Reghu\",\"Ayan\",\"Malavika\"]\n",
        "techtalk"
      ],
      "metadata": {
        "colab": {
          "base_uri": "https://localhost:8080/"
        },
        "id": "JaOBtI1vRzTn",
        "outputId": "5248426b-f53a-46e4-bfa4-b9af8c6a3bc5"
      },
      "execution_count": 43,
      "outputs": [
        {
          "output_type": "execute_result",
          "data": {
            "text/plain": [
              "['Ram', 'Sita', 'Reghu', 'Ayan', 'Malavika']"
            ]
          },
          "metadata": {},
          "execution_count": 43
        }
      ]
    },
    {
      "cell_type": "markdown",
      "source": [
        "8. combine both lists for grand list"
      ],
      "metadata": {
        "id": "HQj9rQkQR2Wx"
      }
    },
    {
      "cell_type": "code",
      "source": [
        "grandlist = attendees + techtalk\n",
        "grandlist"
      ],
      "metadata": {
        "colab": {
          "base_uri": "https://localhost:8080/"
        },
        "id": "v7VveqSGSBSO",
        "outputId": "87c0b056-546c-4d0a-e227-d8bbd248190d"
      },
      "execution_count": 44,
      "outputs": [
        {
          "output_type": "execute_result",
          "data": {
            "text/plain": [
              "['Dr.Manohar',\n",
              " 'John Doe',\n",
              " 'Alice',\n",
              " 'Bob',\n",
              " 'David',\n",
              " 'Ram',\n",
              " 'Sita',\n",
              " 'Reghu',\n",
              " 'Ayan',\n",
              " 'Malavika']"
            ]
          },
          "metadata": {},
          "execution_count": 44
        }
      ]
    },
    {
      "cell_type": "code",
      "source": [
        "grandlist1 = attendees.copy()\n",
        "grandlist1.extend(techtalk)\n",
        "grandlist1"
      ],
      "metadata": {
        "colab": {
          "base_uri": "https://localhost:8080/"
        },
        "id": "ndaBqe1-azzD",
        "outputId": "b94028f3-7855-48d0-912a-7212e780432c"
      },
      "execution_count": 45,
      "outputs": [
        {
          "output_type": "execute_result",
          "data": {
            "text/plain": [
              "['Dr.Manohar',\n",
              " 'John Doe',\n",
              " 'Alice',\n",
              " 'Bob',\n",
              " 'David',\n",
              " 'Ram',\n",
              " 'Sita',\n",
              " 'Reghu',\n",
              " 'Ayan',\n",
              " 'Malavika']"
            ]
          },
          "metadata": {},
          "execution_count": 45
        }
      ]
    },
    {
      "cell_type": "markdown",
      "source": [
        "9. find the total participants"
      ],
      "metadata": {
        "id": "5EIWm8klSNWE"
      }
    },
    {
      "cell_type": "code",
      "source": [],
      "metadata": {
        "id": "AOVvebRGSQEj"
      },
      "execution_count": null,
      "outputs": []
    },
    {
      "cell_type": "markdown",
      "source": [
        "10. Empty the list after the event"
      ],
      "metadata": {
        "id": "TD4dP7GBST9u"
      }
    },
    {
      "cell_type": "code",
      "source": [
        "del attendees"
      ],
      "metadata": {
        "id": "4toH18YNSbf1"
      },
      "execution_count": null,
      "outputs": []
    },
    {
      "cell_type": "markdown",
      "source": [
        "Send a thank you note for all the participants"
      ],
      "metadata": {
        "id": "7w45jgdZcqac"
      }
    },
    {
      "cell_type": "code",
      "source": [
        "grandlist1"
      ],
      "metadata": {
        "colab": {
          "base_uri": "https://localhost:8080/"
        },
        "id": "zTqRBVZOcvLd",
        "outputId": "472e985f-f2b6-47ae-82d3-46a260a6c7e5"
      },
      "execution_count": 46,
      "outputs": [
        {
          "output_type": "execute_result",
          "data": {
            "text/plain": [
              "['Dr.Manohar',\n",
              " 'John Doe',\n",
              " 'Alice',\n",
              " 'Bob',\n",
              " 'David',\n",
              " 'Ram',\n",
              " 'Sita',\n",
              " 'Reghu',\n",
              " 'Ayan',\n",
              " 'Malavika']"
            ]
          },
          "metadata": {},
          "execution_count": 46
        }
      ]
    },
    {
      "cell_type": "code",
      "source": [
        "for member in grandlist1:\n",
        "  print(f\"Dear {member}, thank you for participating in the event. please see the attached participation certificate\\n\")"
      ],
      "metadata": {
        "colab": {
          "base_uri": "https://localhost:8080/"
        },
        "id": "AftUhAgwcntA",
        "outputId": "affff1b2-8daa-43ec-e09a-43b93fb3e402"
      },
      "execution_count": 47,
      "outputs": [
        {
          "output_type": "stream",
          "name": "stdout",
          "text": [
            "Dear Dr.Manohar, thank you for participating in the event. please see the attached participation certificate\n",
            "\n",
            "Dear John Doe, thank you for participating in the event. please see the attached participation certificate\n",
            "\n",
            "Dear Alice, thank you for participating in the event. please see the attached participation certificate\n",
            "\n",
            "Dear Bob, thank you for participating in the event. please see the attached participation certificate\n",
            "\n",
            "Dear David, thank you for participating in the event. please see the attached participation certificate\n",
            "\n",
            "Dear Ram, thank you for participating in the event. please see the attached participation certificate\n",
            "\n",
            "Dear Sita, thank you for participating in the event. please see the attached participation certificate\n",
            "\n",
            "Dear Reghu, thank you for participating in the event. please see the attached participation certificate\n",
            "\n",
            "Dear Ayan, thank you for participating in the event. please see the attached participation certificate\n",
            "\n",
            "Dear Malavika, thank you for participating in the event. please see the attached participation certificate\n",
            "\n"
          ]
        }
      ]
    },
    {
      "cell_type": "markdown",
      "source": [
        "## Tuples"
      ],
      "metadata": {
        "id": "-P6DlXduqlSM"
      }
    },
    {
      "cell_type": "code",
      "source": [
        "newTuple = (\"apple\",\"banana\",\"cherry\",\"orange\",\"kiwi\",\"mango\",\"strawberry\")\n",
        "newTuple[1]"
      ],
      "metadata": {
        "colab": {
          "base_uri": "https://localhost:8080/",
          "height": 35
        },
        "id": "iYnPD7yreBg5",
        "outputId": "0f126d0b-5647-4ca8-a449-0518a1459e4c"
      },
      "execution_count": 48,
      "outputs": [
        {
          "output_type": "execute_result",
          "data": {
            "text/plain": [
              "'banana'"
            ],
            "application/vnd.google.colaboratory.intrinsic+json": {
              "type": "string"
            }
          },
          "metadata": {},
          "execution_count": 48
        }
      ]
    },
    {
      "cell_type": "code",
      "source": [
        "newTuple[1] = \"Guava\""
      ],
      "metadata": {
        "colab": {
          "base_uri": "https://localhost:8080/",
          "height": 141
        },
        "id": "DXMjqxKtsw3i",
        "outputId": "5ff42bb0-73ed-47e3-ba59-38d7d57d23b7"
      },
      "execution_count": 49,
      "outputs": [
        {
          "output_type": "error",
          "ename": "TypeError",
          "evalue": "'tuple' object does not support item assignment",
          "traceback": [
            "\u001b[0;31m---------------------------------------------------------------------------\u001b[0m",
            "\u001b[0;31mTypeError\u001b[0m                                 Traceback (most recent call last)",
            "\u001b[0;32m<ipython-input-49-216285ebf2a7>\u001b[0m in \u001b[0;36m<cell line: 1>\u001b[0;34m()\u001b[0m\n\u001b[0;32m----> 1\u001b[0;31m \u001b[0mnewTuple\u001b[0m\u001b[0;34m[\u001b[0m\u001b[0;36m1\u001b[0m\u001b[0;34m]\u001b[0m \u001b[0;34m=\u001b[0m \u001b[0;34m\"Guava\"\u001b[0m\u001b[0;34m\u001b[0m\u001b[0;34m\u001b[0m\u001b[0m\n\u001b[0m",
            "\u001b[0;31mTypeError\u001b[0m: 'tuple' object does not support item assignment"
          ]
        }
      ]
    },
    {
      "cell_type": "code",
      "source": [
        "newTuple.append(\"Guava\")"
      ],
      "metadata": {
        "colab": {
          "base_uri": "https://localhost:8080/",
          "height": 141
        },
        "id": "Uq7Gw5TYs6ZR",
        "outputId": "19fcdf39-60df-4d64-aacf-cf5fa022af71"
      },
      "execution_count": 51,
      "outputs": [
        {
          "output_type": "error",
          "ename": "AttributeError",
          "evalue": "'tuple' object has no attribute 'append'",
          "traceback": [
            "\u001b[0;31m---------------------------------------------------------------------------\u001b[0m",
            "\u001b[0;31mAttributeError\u001b[0m                            Traceback (most recent call last)",
            "\u001b[0;32m<ipython-input-51-22f0db0b4515>\u001b[0m in \u001b[0;36m<cell line: 1>\u001b[0;34m()\u001b[0m\n\u001b[0;32m----> 1\u001b[0;31m \u001b[0mnewTuple\u001b[0m\u001b[0;34m.\u001b[0m\u001b[0mappend\u001b[0m\u001b[0;34m(\u001b[0m\u001b[0;34m\"Guava\"\u001b[0m\u001b[0;34m)\u001b[0m\u001b[0;34m\u001b[0m\u001b[0;34m\u001b[0m\u001b[0m\n\u001b[0m",
            "\u001b[0;31mAttributeError\u001b[0m: 'tuple' object has no attribute 'append'"
          ]
        }
      ]
    },
    {
      "cell_type": "code",
      "source": [
        "tupToList = list(newTuple)\n",
        "tupToList"
      ],
      "metadata": {
        "colab": {
          "base_uri": "https://localhost:8080/"
        },
        "id": "7i4JvcAatCNU",
        "outputId": "4875e48e-a3e7-4653-d804-82032f9e8ada"
      },
      "execution_count": 52,
      "outputs": [
        {
          "output_type": "execute_result",
          "data": {
            "text/plain": [
              "['apple', 'banana', 'cherry', 'orange', 'kiwi', 'mango', 'strawberry']"
            ]
          },
          "metadata": {},
          "execution_count": 52
        }
      ]
    },
    {
      "cell_type": "code",
      "source": [
        "numList = (12,34,53,64,28,109)\n",
        "print(sum(numList))\n",
        "print(max(numList))\n",
        "print(min(numList))"
      ],
      "metadata": {
        "colab": {
          "base_uri": "https://localhost:8080/"
        },
        "id": "jFRpir-HtUJP",
        "outputId": "988ff496-06f9-4530-c66e-409d41647fbe"
      },
      "execution_count": 54,
      "outputs": [
        {
          "output_type": "stream",
          "name": "stdout",
          "text": [
            "300\n",
            "109\n",
            "12\n"
          ]
        }
      ]
    },
    {
      "cell_type": "markdown",
      "source": [
        "### Sets"
      ],
      "metadata": {
        "id": "4L0wCW10vSQL"
      }
    },
    {
      "cell_type": "markdown",
      "source": [],
      "metadata": {
        "id": "dauyC4FqxVtU"
      }
    },
    {
      "cell_type": "code",
      "source": [
        "newSet = {\"orange\",\"kiwi\",\"mango\",\"strawberry\"}\n"
      ],
      "metadata": {
        "id": "zGxvt2pKvWLp"
      },
      "execution_count": 65,
      "outputs": []
    },
    {
      "cell_type": "code",
      "source": [
        "newSet"
      ],
      "metadata": {
        "colab": {
          "base_uri": "https://localhost:8080/"
        },
        "id": "Av4DeaQax_lc",
        "outputId": "57fb33f2-980a-4205-8af8-e68c3f53a8a7"
      },
      "execution_count": 66,
      "outputs": [
        {
          "output_type": "execute_result",
          "data": {
            "text/plain": [
              "{'kiwi', 'mango', 'orange', 'strawberry'}"
            ]
          },
          "metadata": {},
          "execution_count": 66
        }
      ]
    },
    {
      "cell_type": "code",
      "source": [
        "type(newSet)"
      ],
      "metadata": {
        "colab": {
          "base_uri": "https://localhost:8080/"
        },
        "id": "q0do1jwFxS9A",
        "outputId": "9650e036-832a-48b6-914c-1e5bdd6381e2"
      },
      "execution_count": 58,
      "outputs": [
        {
          "output_type": "execute_result",
          "data": {
            "text/plain": [
              "set"
            ]
          },
          "metadata": {},
          "execution_count": 58
        }
      ]
    },
    {
      "cell_type": "markdown",
      "source": [
        "access items from sets"
      ],
      "metadata": {
        "id": "CxwCPCg_xl1v"
      }
    },
    {
      "cell_type": "code",
      "source": [
        "for x in newSet:\n",
        "  print(x)"
      ],
      "metadata": {
        "colab": {
          "base_uri": "https://localhost:8080/"
        },
        "id": "_mqFaMkzxZFr",
        "outputId": "1f385866-546d-4ede-c9c1-8346d054ff9b"
      },
      "execution_count": 67,
      "outputs": [
        {
          "output_type": "stream",
          "name": "stdout",
          "text": [
            "strawberry\n",
            "mango\n",
            "kiwi\n",
            "orange\n"
          ]
        }
      ]
    },
    {
      "cell_type": "code",
      "source": [
        "newSet.add(\"Guava\")"
      ],
      "metadata": {
        "id": "lifNDacEynMr"
      },
      "execution_count": 68,
      "outputs": []
    },
    {
      "cell_type": "code",
      "source": [
        "newSet2={\"tomato\",\"watermelon\",\"pineapple\"}\n",
        "newSet.update(newSet2)\n",
        "newSet"
      ],
      "metadata": {
        "id": "UMbYGZu7y0Lg"
      },
      "execution_count": null,
      "outputs": []
    },
    {
      "cell_type": "code",
      "source": [
        "newSet.remove(\"tomato\")\n",
        "newSet.discard(\"watermelon\")\n",
        "newSet.pop()\n",
        "newSet"
      ],
      "metadata": {
        "id": "MwJn51EczJPA"
      },
      "execution_count": null,
      "outputs": []
    },
    {
      "cell_type": "code",
      "source": [
        ".union() .intersection() .difference() .copy() .clear()  del"
      ],
      "metadata": {
        "id": "BTp6wvsOzZmL"
      },
      "execution_count": null,
      "outputs": []
    },
    {
      "cell_type": "code",
      "source": [
        "newSet4= {\"tvm\",\"ekm\",\"mango\",\"KLM\"}\n",
        "newSet3 = newSet4.difference(newSet)\n",
        "newSet3"
      ],
      "metadata": {
        "colab": {
          "base_uri": "https://localhost:8080/"
        },
        "id": "DbKKLoff24x5",
        "outputId": "4cd0c892-ceaf-4489-e055-3a24be5f4fb7"
      },
      "execution_count": 77,
      "outputs": [
        {
          "output_type": "execute_result",
          "data": {
            "text/plain": [
              "{'KLM', 'ekm', 'tvm'}"
            ]
          },
          "metadata": {},
          "execution_count": 77
        }
      ]
    },
    {
      "cell_type": "markdown",
      "source": [
        "# Dictionary"
      ],
      "metadata": {
        "id": "dby_JZwJ6hIT"
      }
    },
    {
      "cell_type": "code",
      "source": [
        "newDict= {'Name':'John','Age':25,'City':'New York'}\n",
        "newDict['Name']"
      ],
      "metadata": {
        "colab": {
          "base_uri": "https://localhost:8080/",
          "height": 35
        },
        "id": "Sfftd6OCzQzP",
        "outputId": "cbaec43b-2607-493a-ffb5-45796749f95a"
      },
      "execution_count": 78,
      "outputs": [
        {
          "output_type": "execute_result",
          "data": {
            "text/plain": [
              "'John'"
            ],
            "application/vnd.google.colaboratory.intrinsic+json": {
              "type": "string"
            }
          },
          "metadata": {},
          "execution_count": 78
        }
      ]
    },
    {
      "cell_type": "code",
      "source": [
        "newDict['Age']=34\n",
        "newDict"
      ],
      "metadata": {
        "colab": {
          "base_uri": "https://localhost:8080/"
        },
        "id": "iP60gKpX759f",
        "outputId": "123fe4cb-f448-4188-8e9a-3b6eb7a35d10"
      },
      "execution_count": 79,
      "outputs": [
        {
          "output_type": "execute_result",
          "data": {
            "text/plain": [
              "{'Name': 'John', 'Age': 34, 'City': 'New York'}"
            ]
          },
          "metadata": {},
          "execution_count": 79
        }
      ]
    },
    {
      "cell_type": "code",
      "source": [
        "newDict['Country'] = 'USA'\n",
        "newDict"
      ],
      "metadata": {
        "colab": {
          "base_uri": "https://localhost:8080/"
        },
        "id": "ffWVYVlq8vVP",
        "outputId": "b1743713-7909-4b66-df94-871084e4fed8"
      },
      "execution_count": 80,
      "outputs": [
        {
          "output_type": "execute_result",
          "data": {
            "text/plain": [
              "{'Name': 'John', 'Age': 34, 'City': 'New York', 'Country': 'USA'}"
            ]
          },
          "metadata": {},
          "execution_count": 80
        }
      ]
    },
    {
      "cell_type": "code",
      "source": [
        "newDict.keys()\n",
        "newDict.values()\n",
        "newDict.items()"
      ],
      "metadata": {
        "id": "JaV0qAyI8PKD"
      },
      "execution_count": null,
      "outputs": []
    },
    {
      "cell_type": "markdown",
      "source": [
        "to remove an item from dictionary"
      ],
      "metadata": {
        "id": "LDm2kkKZ-jDg"
      }
    },
    {
      "cell_type": "code",
      "source": [
        "del newDict[\"Age\"]\n",
        "newDict.pop(\"Age\")\n",
        "newDict.popitem()\n",
        "del newDict"
      ],
      "metadata": {
        "id": "tSMpHGcu-MjH"
      },
      "execution_count": null,
      "outputs": []
    },
    {
      "cell_type": "code",
      "source": [
        "newDict"
      ],
      "metadata": {
        "colab": {
          "base_uri": "https://localhost:8080/"
        },
        "id": "-XwnVwIZ_ZHS",
        "outputId": "783ae106-627c-4813-ec89-5c96624fb318"
      },
      "execution_count": 81,
      "outputs": [
        {
          "output_type": "execute_result",
          "data": {
            "text/plain": [
              "{'Name': 'John', 'Age': 34, 'City': 'New York', 'Country': 'USA'}"
            ]
          },
          "metadata": {},
          "execution_count": 81
        }
      ]
    },
    {
      "cell_type": "code",
      "source": [
        "for x,y in newDict.items():\n",
        "  print(f\"{x} is {y}\")"
      ],
      "metadata": {
        "colab": {
          "base_uri": "https://localhost:8080/"
        },
        "id": "F7w8vWVt_aTu",
        "outputId": "c33287af-4d01-45a5-dee4-8d26d03dba5b"
      },
      "execution_count": 85,
      "outputs": [
        {
          "output_type": "stream",
          "name": "stdout",
          "text": [
            "Name is John\n",
            "Age is 34\n",
            "City is New York\n",
            "Country is USA\n"
          ]
        }
      ]
    },
    {
      "cell_type": "code",
      "source": [],
      "metadata": {
        "id": "yGehWSLq_dh_"
      },
      "execution_count": null,
      "outputs": []
    }
  ]
}