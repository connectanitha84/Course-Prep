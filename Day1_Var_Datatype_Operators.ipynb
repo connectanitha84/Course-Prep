{
  "nbformat": 4,
  "nbformat_minor": 0,
  "metadata": {
    "colab": {
      "provenance": [],
      "authorship_tag": "ABX9TyNk40zLvdnaUetDItma5gKO",
      "include_colab_link": true
    },
    "kernelspec": {
      "name": "python3",
      "display_name": "Python 3"
    },
    "language_info": {
      "name": "python"
    }
  },
  "cells": [
    {
      "cell_type": "markdown",
      "metadata": {
        "id": "view-in-github",
        "colab_type": "text"
      },
      "source": [
        "<a href=\"https://colab.research.google.com/github/connectanitha84/Course-Prep/blob/main/Day1_Var_Datatype_Operators.ipynb\" target=\"_parent\"><img src=\"https://colab.research.google.com/assets/colab-badge.svg\" alt=\"Open In Colab\"/></a>"
      ]
    },
    {
      "cell_type": "code",
      "execution_count": null,
      "metadata": {
        "colab": {
          "base_uri": "https://localhost:8080/"
        },
        "id": "NfVjWgfs3-Tw",
        "outputId": "ef612f8c-632b-4a2e-e46e-e9ee3552e35b"
      },
      "outputs": [
        {
          "output_type": "execute_result",
          "data": {
            "text/plain": [
              "int"
            ]
          },
          "metadata": {},
          "execution_count": 1
        }
      ],
      "source": [
        "type(0)"
      ]
    },
    {
      "cell_type": "code",
      "source": [
        "10"
      ],
      "metadata": {
        "id": "S_kqfufWBREt",
        "colab": {
          "base_uri": "https://localhost:8080/"
        },
        "outputId": "f071ab5e-4da4-4514-8431-6a2cf1b90020"
      },
      "execution_count": null,
      "outputs": [
        {
          "output_type": "execute_result",
          "data": {
            "text/plain": [
              "10"
            ]
          },
          "metadata": {},
          "execution_count": 2
        }
      ]
    },
    {
      "cell_type": "code",
      "source": [
        "\"dcsmat\""
      ],
      "metadata": {
        "colab": {
          "base_uri": "https://localhost:8080/",
          "height": 36
        },
        "id": "ZYSbcJExO4cf",
        "outputId": "0b3dd4b6-5a38-45eb-eeb8-898a4bded970"
      },
      "execution_count": null,
      "outputs": [
        {
          "output_type": "execute_result",
          "data": {
            "text/plain": [
              "'dcsmat'"
            ],
            "application/vnd.google.colaboratory.intrinsic+json": {
              "type": "string"
            }
          },
          "metadata": {},
          "execution_count": 4
        }
      ]
    },
    {
      "cell_type": "code",
      "source": [
        "10+9"
      ],
      "metadata": {
        "colab": {
          "base_uri": "https://localhost:8080/"
        },
        "id": "HECEyTirPbcH",
        "outputId": "f9df5fbc-5090-49ee-d3be-9e325add2bfc"
      },
      "execution_count": null,
      "outputs": [
        {
          "output_type": "execute_result",
          "data": {
            "text/plain": [
              "19"
            ]
          },
          "metadata": {},
          "execution_count": 6
        }
      ]
    },
    {
      "cell_type": "code",
      "source": [
        "print(\"Hello there, welcome to day 1\")"
      ],
      "metadata": {
        "colab": {
          "base_uri": "https://localhost:8080/"
        },
        "id": "YuxX9m94Rk7K",
        "outputId": "0c5027da-41e6-4603-e950-9025072683f9"
      },
      "execution_count": null,
      "outputs": [
        {
          "output_type": "stream",
          "name": "stdout",
          "text": [
            "Hello there, welcome to day 1\n"
          ]
        }
      ]
    },
    {
      "cell_type": "code",
      "source": [
        "print(\"Hello\",\"Dcsmat\",\"Welcome to day 1\")"
      ],
      "metadata": {
        "colab": {
          "base_uri": "https://localhost:8080/"
        },
        "id": "Hhg6N70ZRydh",
        "outputId": "e9f876ca-f706-4210-c753-b570895e6cbd"
      },
      "execution_count": null,
      "outputs": [
        {
          "output_type": "stream",
          "name": "stdout",
          "text": [
            "Hello Dcsmat Welcome to day 1\n"
          ]
        }
      ]
    },
    {
      "cell_type": "code",
      "source": [
        "print(\"Hello\",\"Dcsmat\",\"Welcome to day 1\",sep=\"_\" )"
      ],
      "metadata": {
        "colab": {
          "base_uri": "https://localhost:8080/"
        },
        "id": "mi2AO5omShDq",
        "outputId": "6ea30ca1-a850-4fbd-d779-512f48620bf6"
      },
      "execution_count": null,
      "outputs": [
        {
          "output_type": "stream",
          "name": "stdout",
          "text": [
            "Hello_Dcsmat_Welcome to day 1\n"
          ]
        }
      ]
    },
    {
      "cell_type": "code",
      "source": [
        "name = \"Ramu\"\n",
        "age =32"
      ],
      "metadata": {
        "id": "CJEkwz0RSzDb"
      },
      "execution_count": null,
      "outputs": []
    },
    {
      "cell_type": "code",
      "source": [
        "print(name, age)"
      ],
      "metadata": {
        "colab": {
          "base_uri": "https://localhost:8080/"
        },
        "id": "-6YINDQFTpup",
        "outputId": "839a899a-9dd6-45ae-e744-554c3b3e2556"
      },
      "execution_count": null,
      "outputs": [
        {
          "output_type": "stream",
          "name": "stdout",
          "text": [
            "Ramu 32\n"
          ]
        }
      ]
    },
    {
      "cell_type": "code",
      "source": [
        "type(name)"
      ],
      "metadata": {
        "colab": {
          "base_uri": "https://localhost:8080/"
        },
        "id": "iOZkeklLU5Bl",
        "outputId": "2c95f82d-8836-4b28-d32f-61193536fd49"
      },
      "execution_count": null,
      "outputs": [
        {
          "output_type": "execute_result",
          "data": {
            "text/plain": [
              "str"
            ]
          },
          "metadata": {},
          "execution_count": 14
        }
      ]
    },
    {
      "cell_type": "code",
      "source": [
        "#this is to print using formatting\n",
        "#this is to print using formatting\n",
        "\"\"\"this is to print using formatting\n",
        "this is to print using formatting\n",
        "this is to print using formatting\"\"\"\n",
        "print(f\"my name is {name} and my age is {age}\")"
      ],
      "metadata": {
        "colab": {
          "base_uri": "https://localhost:8080/"
        },
        "id": "v-YSrlViU7uJ",
        "outputId": "07baf20c-3882-4bb0-8b02-a9c4d3aa3c49"
      },
      "execution_count": null,
      "outputs": [
        {
          "output_type": "stream",
          "name": "stdout",
          "text": [
            "my name is Ramu and my age is 32\n"
          ]
        }
      ]
    },
    {
      "cell_type": "code",
      "source": [
        "city = input(\"Enter your city\")"
      ],
      "metadata": {
        "id": "z19LOg9SWy8M"
      },
      "execution_count": null,
      "outputs": []
    },
    {
      "cell_type": "code",
      "source": [
        "print(city)"
      ],
      "metadata": {
        "colab": {
          "base_uri": "https://localhost:8080/"
        },
        "id": "-mqagkUEYqRf",
        "outputId": "ec063d46-52ba-428e-baaa-a88998ef7b60"
      },
      "execution_count": null,
      "outputs": [
        {
          "output_type": "stream",
          "name": "stdout",
          "text": [
            "tvm\n"
          ]
        }
      ]
    },
    {
      "cell_type": "markdown",
      "source": [
        "# Create a program that greets a user by name. Ask for the user's name and print a personalized message, such as \"Welcome to Data Analytics, [Name]!\""
      ],
      "metadata": {
        "id": "dyPVBg63cOM3"
      }
    },
    {
      "cell_type": "code",
      "source": [
        "year = int(input(\"Enter the year\"))\n",
        "print(year)"
      ],
      "metadata": {
        "id": "NV4PPfbfYtnx"
      },
      "execution_count": null,
      "outputs": []
    },
    {
      "cell_type": "code",
      "source": [
        "type(year)"
      ],
      "metadata": {
        "id": "9SNSihrCgU94"
      },
      "execution_count": null,
      "outputs": []
    },
    {
      "cell_type": "markdown",
      "source": [
        "# Create two variables for income and expenses. Calculate and print your savings for the month"
      ],
      "metadata": {
        "id": "Ax0ITqk2iKqa"
      }
    },
    {
      "cell_type": "markdown",
      "source": [],
      "metadata": {
        "id": "yWOSNjetiKpH"
      }
    },
    {
      "cell_type": "markdown",
      "source": [
        "# New\n",
        "==\n",
        "!=\n",
        ">=\n",
        "<=\n",
        "\n",
        "a<100 or a>20"
      ],
      "metadata": {
        "id": "NsnrGgVW1DpF"
      }
    },
    {
      "cell_type": "code",
      "source": [
        "num1 = 100\n",
        "num2 = 200\n",
        "print(num1 == num2)\n",
        "print(num1 != num2)\n",
        "print(num1<num2)\n",
        "print(num1>20 and num2<150)"
      ],
      "metadata": {
        "colab": {
          "base_uri": "https://localhost:8080/"
        },
        "id": "5TbeG_3B35Mv",
        "outputId": "f4d34d01-f9d5-4472-b64d-d9923656d2fb"
      },
      "execution_count": null,
      "outputs": [
        {
          "output_type": "stream",
          "name": "stdout",
          "text": [
            "False\n",
            "True\n",
            "True\n",
            "False\n"
          ]
        }
      ]
    },
    {
      "cell_type": "code",
      "source": [
        "sentence = \"Data Science is a new field of study\"\n",
        "print(len(sentence))"
      ],
      "metadata": {
        "colab": {
          "base_uri": "https://localhost:8080/"
        },
        "id": "ytOl1VM85xMh",
        "outputId": "a6a2a973-0ef4-4e21-d0c2-6bcecbff5595"
      },
      "execution_count": null,
      "outputs": [
        {
          "output_type": "stream",
          "name": "stdout",
          "text": [
            "36\n"
          ]
        }
      ]
    },
    {
      "cell_type": "code",
      "source": [
        "sentence[0]"
      ],
      "metadata": {
        "colab": {
          "base_uri": "https://localhost:8080/",
          "height": 36
        },
        "id": "15TsC5f67Rau",
        "outputId": "d1b4524f-2b3f-46ab-e2f2-578b6d2229d2"
      },
      "execution_count": null,
      "outputs": [
        {
          "output_type": "execute_result",
          "data": {
            "text/plain": [
              "'D'"
            ],
            "application/vnd.google.colaboratory.intrinsic+json": {
              "type": "string"
            }
          },
          "metadata": {},
          "execution_count": 9
        }
      ]
    },
    {
      "cell_type": "code",
      "source": [
        "sentence[-1]"
      ],
      "metadata": {
        "colab": {
          "base_uri": "https://localhost:8080/",
          "height": 36
        },
        "id": "WbgcUM02744p",
        "outputId": "c5018716-4bc1-46ba-8006-1bbb02d34e24"
      },
      "execution_count": null,
      "outputs": [
        {
          "output_type": "execute_result",
          "data": {
            "text/plain": [
              "'y'"
            ],
            "application/vnd.google.colaboratory.intrinsic+json": {
              "type": "string"
            }
          },
          "metadata": {},
          "execution_count": 10
        }
      ]
    },
    {
      "cell_type": "code",
      "source": [
        "sentence[0:12:2]"
      ],
      "metadata": {
        "colab": {
          "base_uri": "https://localhost:8080/",
          "height": 36
        },
        "id": "mYhGaWdS83I8",
        "outputId": "cdeedd50-268d-4ef2-e4a5-1a63a6a28a77"
      },
      "execution_count": null,
      "outputs": [
        {
          "output_type": "execute_result",
          "data": {
            "text/plain": [
              "'Dt cec'"
            ],
            "application/vnd.google.colaboratory.intrinsic+json": {
              "type": "string"
            }
          },
          "metadata": {},
          "execution_count": 14
        }
      ]
    },
    {
      "cell_type": "code",
      "source": [
        "sentence[13:]"
      ],
      "metadata": {
        "colab": {
          "base_uri": "https://localhost:8080/",
          "height": 36
        },
        "id": "Zlue_0x99ipj",
        "outputId": "5073ce6a-9d32-4fff-de7d-46a220c365f5"
      },
      "execution_count": null,
      "outputs": [
        {
          "output_type": "execute_result",
          "data": {
            "text/plain": [
              "'is a new field of study'"
            ],
            "application/vnd.google.colaboratory.intrinsic+json": {
              "type": "string"
            }
          },
          "metadata": {},
          "execution_count": 16
        }
      ]
    },
    {
      "cell_type": "code",
      "source": [
        "sentence[:13]"
      ],
      "metadata": {
        "colab": {
          "base_uri": "https://localhost:8080/",
          "height": 36
        },
        "id": "Oquvlf63-ElV",
        "outputId": "b7b05e87-b569-426b-e48d-7a8f6c2bf427"
      },
      "execution_count": null,
      "outputs": [
        {
          "output_type": "execute_result",
          "data": {
            "text/plain": [
              "'Data Science '"
            ],
            "application/vnd.google.colaboratory.intrinsic+json": {
              "type": "string"
            }
          },
          "metadata": {},
          "execution_count": 17
        }
      ]
    },
    {
      "cell_type": "code",
      "source": [
        "sentence[::3]"
      ],
      "metadata": {
        "colab": {
          "base_uri": "https://localhost:8080/",
          "height": 36
        },
        "id": "vquas4jW-Sxy",
        "outputId": "7fff39e9-ba4f-4b11-ad23-b43437e35f28"
      },
      "execution_count": null,
      "outputs": [
        {
          "output_type": "execute_result",
          "data": {
            "text/plain": [
              "'Dacn  n e  u'"
            ],
            "application/vnd.google.colaboratory.intrinsic+json": {
              "type": "string"
            }
          },
          "metadata": {},
          "execution_count": 18
        }
      ]
    },
    {
      "cell_type": "markdown",
      "source": [
        "Data science is **fascinating** and powerful"
      ],
      "metadata": {
        "id": "mKKDBat9_Jzi"
      }
    },
    {
      "cell_type": "code",
      "source": [
        "sentence"
      ],
      "metadata": {
        "colab": {
          "base_uri": "https://localhost:8080/",
          "height": 36
        },
        "id": "rqjQdsaU-hS-",
        "outputId": "09573ad6-5a58-47e9-f136-29bb90e7dacd"
      },
      "execution_count": null,
      "outputs": [
        {
          "output_type": "execute_result",
          "data": {
            "text/plain": [
              "'Data Science is a new field of study'"
            ],
            "application/vnd.google.colaboratory.intrinsic+json": {
              "type": "string"
            }
          },
          "metadata": {},
          "execution_count": 19
        }
      ]
    },
    {
      "cell_type": "code",
      "source": [
        "sentence.upper()"
      ],
      "metadata": {
        "colab": {
          "base_uri": "https://localhost:8080/",
          "height": 36
        },
        "id": "9hGgjXKEBJ-C",
        "outputId": "c47f0dc7-366a-460a-9069-d18f15715612"
      },
      "execution_count": null,
      "outputs": [
        {
          "output_type": "execute_result",
          "data": {
            "text/plain": [
              "'DATA SCIENCE IS A NEW FIELD OF STUDY'"
            ],
            "application/vnd.google.colaboratory.intrinsic+json": {
              "type": "string"
            }
          },
          "metadata": {},
          "execution_count": 21
        }
      ]
    },
    {
      "cell_type": "markdown",
      "source": [
        "lower() , casefold() , swapcase() , title() , capitalize()"
      ],
      "metadata": {
        "id": "KUpzCBnDBhAr"
      }
    },
    {
      "cell_type": "code",
      "source": [
        "str1 = \"python programming is FUN\"\n",
        "print(str1.upper())\n",
        "print(str1.lower())\n",
        "print(str1.swapcase())\n",
        "print(str1.title())\n",
        "print(str1.capitalize())"
      ],
      "metadata": {
        "colab": {
          "base_uri": "https://localhost:8080/"
        },
        "id": "mT1yO9eeBQfJ",
        "outputId": "cbc18e9c-361f-48d5-c9a9-11c5688f29ed"
      },
      "execution_count": null,
      "outputs": [
        {
          "output_type": "stream",
          "name": "stdout",
          "text": [
            "PYTHON PROGRAMMING IS FUN\n",
            "python programming is fun\n",
            "PYTHON PROGRAMMING IS fun\n",
            "Python Programming Is Fun\n",
            "Python programming is fun\n"
          ]
        }
      ]
    },
    {
      "cell_type": "code",
      "source": [
        "str2=\"python_programming_is FUN\"\n",
        "words = str2.split(\"_\")\n",
        "print(words)"
      ],
      "metadata": {
        "colab": {
          "base_uri": "https://localhost:8080/"
        },
        "id": "pGmKszEqB-Ms",
        "outputId": "b306b7b2-7331-4bd4-d9b3-4a2dd291c308"
      },
      "execution_count": null,
      "outputs": [
        {
          "output_type": "stream",
          "name": "stdout",
          "text": [
            "['python', 'programming', 'is FUN']\n"
          ]
        }
      ]
    },
    {
      "cell_type": "code",
      "source": [
        "words[0]"
      ],
      "metadata": {
        "colab": {
          "base_uri": "https://localhost:8080/",
          "height": 36
        },
        "id": "1WAaXnbDDloF",
        "outputId": "e8319da8-4b0a-4bf9-9d3d-bfbf898c7dd3"
      },
      "execution_count": null,
      "outputs": [
        {
          "output_type": "execute_result",
          "data": {
            "text/plain": [
              "'python'"
            ],
            "application/vnd.google.colaboratory.intrinsic+json": {
              "type": "string"
            }
          },
          "metadata": {},
          "execution_count": 29
        }
      ]
    },
    {
      "cell_type": "code",
      "source": [
        "doc1 = \"Data science is fascinating and powerful \\n and is a new trend in the field of data analysis.\""
      ],
      "metadata": {
        "id": "dZMmj5PLFD40"
      },
      "execution_count": null,
      "outputs": []
    },
    {
      "cell_type": "code",
      "source": [
        "print(doc1)"
      ],
      "metadata": {
        "colab": {
          "base_uri": "https://localhost:8080/"
        },
        "id": "zNvy4vCCILwQ",
        "outputId": "fae216ee-c62f-4379-ae5b-96548b690047"
      },
      "execution_count": null,
      "outputs": [
        {
          "output_type": "stream",
          "name": "stdout",
          "text": [
            "Data science is fascinating and powerful \n",
            " and is a new trend in the field of data analysis.\n"
          ]
        }
      ]
    },
    {
      "cell_type": "code",
      "source": [
        "new_doc2=doc1.title().replace(\"Data\",\"Information\")\n",
        "new_doc2"
      ],
      "metadata": {
        "colab": {
          "base_uri": "https://localhost:8080/",
          "height": 54
        },
        "id": "2EllKZPENHub",
        "outputId": "dd8ee4b3-94fb-42dc-9f8a-412b278ebe24"
      },
      "execution_count": null,
      "outputs": [
        {
          "output_type": "execute_result",
          "data": {
            "text/plain": [
              "'Information Science Is Fascinating And Powerful \\n And Is A New Trend In The Field Of Information Analysis.'"
            ],
            "application/vnd.google.colaboratory.intrinsic+json": {
              "type": "string"
            }
          },
          "metadata": {},
          "execution_count": 42
        }
      ]
    },
    {
      "cell_type": "code",
      "source": [],
      "metadata": {
        "id": "-0W8MNlRIOM5"
      },
      "execution_count": null,
      "outputs": []
    },
    {
      "cell_type": "code",
      "source": [],
      "metadata": {
        "id": "aWzAti22Ny4s"
      },
      "execution_count": null,
      "outputs": []
    },
    {
      "cell_type": "markdown",
      "source": [
        "Dsad@137"
      ],
      "metadata": {
        "id": "9FJHREr_aI3J"
      }
    }
  ]
}